{
 "cells": [
  {
   "cell_type": "code",
   "execution_count": 227,
   "id": "9f900b15",
   "metadata": {},
   "outputs": [],
   "source": [
    "import numpy as np\n",
    "import pandas as pd\n",
    "import tensorflow as tf\n",
    "from sklearn.model_selection import train_test_split"
   ]
  },
  {
   "cell_type": "code",
   "execution_count": 228,
   "id": "309261ed",
   "metadata": {},
   "outputs": [],
   "source": [
    "IMG_SIZE = (1200,1)"
   ]
  },
  {
   "cell_type": "code",
   "execution_count": 229,
   "id": "319c3bc8",
   "metadata": {},
   "outputs": [],
   "source": [
    "df = pd.read_csv('Dataset/train.csv')"
   ]
  },
  {
   "cell_type": "code",
   "execution_count": 230,
   "id": "2c4cc584",
   "metadata": {},
   "outputs": [],
   "source": [
    "x = df.drop('labels', axis = 1)\n",
    "y = df['labels']\n",
    "\n",
    "x = x.values\n",
    "x = x.reshape(x.shape[0], x.shape[1], 1)\n",
    "\n",
    "x_train, x_test, y_train, y_test = train_test_split(x,y, test_size = 0.2, shuffle = True)"
   ]
  },
  {
   "cell_type": "code",
   "execution_count": 231,
   "id": "cc468f8f",
   "metadata": {},
   "outputs": [],
   "source": [
    "import keras\n",
    "from keras.models import Sequential\n",
    "from keras.layers import Dense, Dropout, BatchNormalization, LeakyReLU"
   ]
  },
  {
   "cell_type": "code",
   "execution_count": 298,
   "id": "d56a9d17",
   "metadata": {},
   "outputs": [],
   "source": [
    "from tensorflow.keras.models import Sequential\n",
    "from tensorflow.keras.layers import Conv1D, MaxPooling1D, Flatten, Dense\n",
    "\n",
    "model2 = Sequential()\n",
    "model2.add(Conv1D(filters=32, kernel_size=2, strides = 1, activation='relu', input_shape=(1200,1)))\n",
    "model2.add(Conv1D(filters=64, kernel_size=3, strides = 2, activation='relu'))\n",
    "model2.add(MaxPooling1D(pool_size=2))\n",
    "model2.add(Flatten())\n",
    "model2.add(Dense(64, activation='relu'))\n",
    "model2.add(Dropout(rate = 0.4))\n",
    "model2.add(Dense(1, activation='sigmoid'))\n",
    "\n",
    "model2.compile(optimizer='adam', loss='binary_crossentropy', metrics=['accuracy'])"
   ]
  },
  {
   "cell_type": "code",
   "execution_count": 299,
   "id": "510c5cf7",
   "metadata": {},
   "outputs": [
    {
     "name": "stdout",
     "output_type": "stream",
     "text": [
      "Model: \"sequential_91\"\n",
      "_________________________________________________________________\n",
      " Layer (type)                Output Shape              Param #   \n",
      "=================================================================\n",
      " conv1d_183 (Conv1D)         (None, 1199, 32)          96        \n",
      "                                                                 \n",
      " conv1d_184 (Conv1D)         (None, 599, 64)           6208      \n",
      "                                                                 \n",
      " max_pooling1d_173 (MaxPooli  (None, 299, 64)          0         \n",
      " ng1D)                                                           \n",
      "                                                                 \n",
      " flatten_90 (Flatten)        (None, 19136)             0         \n",
      "                                                                 \n",
      " dense_183 (Dense)           (None, 64)                1224768   \n",
      "                                                                 \n",
      " dropout_92 (Dropout)        (None, 64)                0         \n",
      "                                                                 \n",
      " dense_184 (Dense)           (None, 1)                 65        \n",
      "                                                                 \n",
      "=================================================================\n",
      "Total params: 1,231,137\n",
      "Trainable params: 1,231,137\n",
      "Non-trainable params: 0\n",
      "_________________________________________________________________\n"
     ]
    }
   ],
   "source": [
    "model2.summary()"
   ]
  },
  {
   "cell_type": "code",
   "execution_count": 300,
   "id": "a3bb78ab",
   "metadata": {},
   "outputs": [
    {
     "name": "stdout",
     "output_type": "stream",
     "text": [
      "Epoch 1/10\n",
      "66/66 [==============================] - 6s 78ms/step - loss: 0.4346 - accuracy: 0.8026\n",
      "Epoch 2/10\n",
      "66/66 [==============================] - 6s 86ms/step - loss: 0.2885 - accuracy: 0.8738\n",
      "Epoch 3/10\n",
      "66/66 [==============================] - 6s 94ms/step - loss: 0.2496 - accuracy: 0.8957\n",
      "Epoch 4/10\n",
      "66/66 [==============================] - 7s 104ms/step - loss: 0.1868 - accuracy: 0.9236\n",
      "Epoch 5/10\n",
      "66/66 [==============================] - 8s 120ms/step - loss: 0.1522 - accuracy: 0.9405\n",
      "Epoch 6/10\n",
      "66/66 [==============================] - 7s 99ms/step - loss: 0.1103 - accuracy: 0.9619\n",
      "Epoch 7/10\n",
      "66/66 [==============================] - 5s 81ms/step - loss: 0.0895 - accuracy: 0.9674\n",
      "Epoch 8/10\n",
      "66/66 [==============================] - 5s 72ms/step - loss: 0.0719 - accuracy: 0.9757\n",
      "Epoch 9/10\n",
      "66/66 [==============================] - 5s 80ms/step - loss: 0.0452 - accuracy: 0.9864\n",
      "Epoch 10/10\n",
      "66/66 [==============================] - 5s 75ms/step - loss: 0.0409 - accuracy: 0.9888\n"
     ]
    },
    {
     "data": {
      "text/plain": [
       "<keras.callbacks.History at 0x181fc4c30a0>"
      ]
     },
     "execution_count": 300,
     "metadata": {},
     "output_type": "execute_result"
    }
   ],
   "source": [
    "model2.fit(x_train,y_train, batch_size = 64, epochs = 10)"
   ]
  },
  {
   "cell_type": "code",
   "execution_count": 301,
   "id": "bd5df9cc",
   "metadata": {},
   "outputs": [
    {
     "name": "stdout",
     "output_type": "stream",
     "text": [
      "Epoch 1/10\n",
      "66/66 [==============================] - 5s 76ms/step - loss: 0.0473 - accuracy: 0.9836\n",
      "Epoch 2/10\n",
      "66/66 [==============================] - 6s 86ms/step - loss: 0.0416 - accuracy: 0.9843\n",
      "Epoch 3/10\n",
      "66/66 [==============================] - 5s 74ms/step - loss: 0.0237 - accuracy: 0.9917\n",
      "Epoch 4/10\n",
      "66/66 [==============================] - 5s 76ms/step - loss: 0.0224 - accuracy: 0.9926\n",
      "Epoch 5/10\n",
      "66/66 [==============================] - 5s 83ms/step - loss: 0.0197 - accuracy: 0.9931\n",
      "Epoch 6/10\n",
      "66/66 [==============================] - 7s 99ms/step - loss: 0.0169 - accuracy: 0.9943\n",
      "Epoch 7/10\n",
      "66/66 [==============================] - 6s 94ms/step - loss: 0.0276 - accuracy: 0.9902\n",
      "Epoch 8/10\n",
      "66/66 [==============================] - 6s 96ms/step - loss: 0.0171 - accuracy: 0.9938\n",
      "Epoch 9/10\n",
      "66/66 [==============================] - 6s 84ms/step - loss: 0.0199 - accuracy: 0.9931\n",
      "Epoch 10/10\n",
      "66/66 [==============================] - 5s 79ms/step - loss: 0.0197 - accuracy: 0.9936\n"
     ]
    },
    {
     "data": {
      "text/plain": [
       "<keras.callbacks.History at 0x18192a7d5a0>"
      ]
     },
     "execution_count": 301,
     "metadata": {},
     "output_type": "execute_result"
    }
   ],
   "source": [
    "model2.fit(x_train,y_train, batch_size = 64, epochs = 10)"
   ]
  },
  {
   "cell_type": "code",
   "execution_count": 293,
   "id": "f1d2caa7",
   "metadata": {},
   "outputs": [
    {
     "name": "stdout",
     "output_type": "stream",
     "text": [
      "33/33 [==============================] - 0s 7ms/step\n"
     ]
    },
    {
     "data": {
      "text/plain": [
       "0.7005870841487278"
      ]
     },
     "execution_count": 293,
     "metadata": {},
     "output_type": "execute_result"
    }
   ],
   "source": [
    "y_pred_probs = model2.predict(x_test)\n",
    "y_pred = (y_pred_probs > 0.5).astype(int)\n",
    "from sklearn.metrics import f1_score\n",
    "f1 = f1_score(y_test, y_pred)\n",
    "f1"
   ]
  },
  {
   "cell_type": "code",
   "execution_count": 294,
   "id": "f175f3f4",
   "metadata": {},
   "outputs": [
    {
     "name": "stdout",
     "output_type": "stream",
     "text": [
      "71/71 [==============================] - 1s 7ms/step\n"
     ]
    }
   ],
   "source": [
    "df2 = pd.read_csv('Dataset/test.csv')\n",
    "df2 = df2.drop('id', axis = 1)\n",
    "test = df2.values\n",
    "test = test.reshape(test.shape[0], test.shape[1], 1)\n",
    "pred_probs = model2.predict(test)\n",
    "predicted_labels = (pred_probs > 0.5).astype(int)"
   ]
  },
  {
   "cell_type": "code",
   "execution_count": 295,
   "id": "45076867",
   "metadata": {},
   "outputs": [],
   "source": [
    "predicted_labels = predicted_labels.reshape(2250)"
   ]
  },
  {
   "cell_type": "code",
   "execution_count": 297,
   "id": "59b4d45b",
   "metadata": {},
   "outputs": [
    {
     "name": "stdout",
     "output_type": "stream",
     "text": [
      "CSV file created successfully.\n"
     ]
    }
   ],
   "source": [
    "import csv\n",
    "\n",
    "# Prepare data for CSV\n",
    "data = []\n",
    "for i, value in enumerate(predicted_labels):\n",
    "    data.append([i + 1, value])\n",
    "\n",
    "# Specify the file path for the CSV file\n",
    "csv_file = 'output.csv'\n",
    "\n",
    "# Write data to CSV file\n",
    "with open(csv_file, 'w', newline='') as file:\n",
    "    writer = csv.writer(file)\n",
    "    writer.writerow(['id', 'label'])  # Write the header\n",
    "    writer.writerows([row for row in data])  # Write the data rows without square brackets\n",
    "\n",
    "print(\"CSV file created successfully.\")\n"
   ]
  },
  {
   "cell_type": "code",
   "execution_count": null,
   "id": "432eeaea",
   "metadata": {},
   "outputs": [],
   "source": []
  }
 ],
 "metadata": {
  "kernelspec": {
   "display_name": "Python 3 (ipykernel)",
   "language": "python",
   "name": "python3"
  },
  "language_info": {
   "codemirror_mode": {
    "name": "ipython",
    "version": 3
   },
   "file_extension": ".py",
   "mimetype": "text/x-python",
   "name": "python",
   "nbconvert_exporter": "python",
   "pygments_lexer": "ipython3",
   "version": "3.10.9"
  }
 },
 "nbformat": 4,
 "nbformat_minor": 5
}
